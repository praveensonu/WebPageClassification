{
 "cells": [
  {
   "cell_type": "code",
   "execution_count": 10,
   "id": "4eb12ed5-338f-4f33-a3d4-99545fd5e77e",
   "metadata": {},
   "outputs": [],
   "source": [
    "import pandas as pd\n",
    "import numpy as np\n",
    "import re\n",
    "from tqdm import tqdm\n",
    "from urllib.parse import urlparse\n",
    "import pickle"
   ]
  },
  {
   "cell_type": "code",
   "execution_count": 2,
   "id": "0333e08b-0de5-440c-a94f-76c5d9805e88",
   "metadata": {},
   "outputs": [],
   "source": [
    "df=pd.read_csv(\"webpage data.csv\")"
   ]
  },
  {
   "cell_type": "code",
   "execution_count": 3,
   "id": "fb32a496-46a5-4333-b0d4-ec6fbb004af4",
   "metadata": {},
   "outputs": [],
   "source": [
    "def clean_url(df):\n",
    "    df[\"Url\"] = df[\"Url\"].str.replace(\"/\", \" \")\n",
    "    df[\"Url\"] = df[\"Url\"].str.replace(\"-\", \" \")\n",
    "    df[\"Url\"] = df[\"Url\"].str.replace(\"https:\", \"\")\n",
    "    df[\"Url\"] = df[\"Url\"].str.replace(\"http:\", \"\")\n",
    "    return df"
   ]
  },
  {
   "cell_type": "code",
   "execution_count": 4,
   "id": "52eefc7f-3c22-4425-b108-cd722571952d",
   "metadata": {},
   "outputs": [],
   "source": [
    "df = clean_url(df)"
   ]
  },
  {
   "cell_type": "code",
   "execution_count": 5,
   "id": "9b304fe5-f376-4f8b-a51e-f33a5b90b0c3",
   "metadata": {},
   "outputs": [],
   "source": [
    "from sklearn.feature_extraction.text import TfidfVectorizer\n",
    "from sklearn.pipeline import FeatureUnion"
   ]
  },
  {
   "cell_type": "code",
   "execution_count": 6,
   "id": "6693b377-db75-4c70-8cfd-d4821e4fd5f0",
   "metadata": {},
   "outputs": [],
   "source": [
    "# Word and character TFIDF on URLs\n",
    "vec1 = TfidfVectorizer(analyzer='char', ngram_range=(1, 5), min_df=500)\n",
    "vec2 = TfidfVectorizer(analyzer='word', ngram_range=(1, 3), min_df=400)\n",
    "vec_tfidf = FeatureUnion([(\"char\", vec1), (\"word\", vec2)])\n",
    "vec_tfidf.fit(df['Url'])\n",
    "Url_tfidf = vec_tfidf.transform(df['Url'])"
   ]
  },
  {
   "cell_type": "code",
   "execution_count": 7,
   "id": "7e33633b-94f8-4189-8348-35fc9ee1d9ab",
   "metadata": {},
   "outputs": [],
   "source": [
    "X = Url_tfidf\n",
    "\n",
    "TAG_DICT = {\"others\":1, \"news\": 2, \"publication\":3, \"profile\": 4,\n",
    "            \"conferences\": 5, \"forum\": 6, \"clinicalTrials\": 7,\n",
    "            \"thesis\": 8, \"guidelines\": 9}\n",
    "\n",
    "df['target'] = df.Tag.map(TAG_DICT)\n",
    "y = df[\"target\"].values"
   ]
  },
  {
   "cell_type": "code",
   "execution_count": 11,
   "id": "bdc49eaa-d35f-413d-b229-3b0e290f2caf",
   "metadata": {},
   "outputs": [],
   "source": [
    "pickle.dump(vec_tfidf, open('vec_tfidi_transform.pkl', 'wb'))"
   ]
  },
  {
   "cell_type": "code",
   "execution_count": 8,
   "id": "3c589040-637c-4d57-a3e7-6dacc322c2a0",
   "metadata": {},
   "outputs": [],
   "source": [
    "from sklearn.model_selection import train_test_split\n",
    "X_train, X_test, y_train, y_test = train_test_split(X, y, test_size=0.20, random_state=0)"
   ]
  },
  {
   "cell_type": "code",
   "execution_count": 9,
   "id": "61a33ea8-c774-4091-8afe-2f7be2b3e465",
   "metadata": {},
   "outputs": [
    {
     "data": {
      "text/plain": [
       "LogisticRegression(C=0.1, class_weight='balanced')"
      ]
     },
     "execution_count": 9,
     "metadata": {},
     "output_type": "execute_result"
    }
   ],
   "source": [
    "from sklearn.linear_model import LogisticRegression\n",
    "log_reg = LogisticRegression(C=0.1,class_weight=\"balanced\")\n",
    "log_reg.fit(X_train, y_train)"
   ]
  },
  {
   "cell_type": "code",
   "execution_count": 12,
   "id": "385cec18-33ae-43e1-8cb7-bb6073f4a81f",
   "metadata": {},
   "outputs": [],
   "source": [
    "filename = 'web_classification.pkl'\n",
    "pickle.dump(log_reg, open(filename, 'wb'))"
   ]
  },
  {
   "cell_type": "code",
   "execution_count": null,
   "id": "5aa4528d-ecff-45c5-875d-cfc075a8e597",
   "metadata": {},
   "outputs": [],
   "source": []
  }
 ],
 "metadata": {
  "kernelspec": {
   "display_name": "Python 3",
   "language": "python",
   "name": "python3"
  },
  "language_info": {
   "codemirror_mode": {
    "name": "ipython",
    "version": 3
   },
   "file_extension": ".py",
   "mimetype": "text/x-python",
   "name": "python",
   "nbconvert_exporter": "python",
   "pygments_lexer": "ipython3",
   "version": "3.8.8"
  }
 },
 "nbformat": 4,
 "nbformat_minor": 5
}
